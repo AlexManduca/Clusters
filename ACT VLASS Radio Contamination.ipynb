{
 "cells": [
  {
   "cell_type": "code",
   "execution_count": 1,
   "metadata": {},
   "outputs": [],
   "source": [
    "import numpy as np\n",
    "import astropy.units as u\n",
    "from astropy.io import fits\n",
    "from astropy.table import QTable\n",
    "from astroquery.esasky import ESASky\n",
    "from astropy.nddata import Cutout2D\n",
    "from astropy.convolution import Gaussian2DKernel, convolve\n",
    "from astropy import wcs\n",
    "import matplotlib.pyplot as plt"
   ]
  },
  {
   "cell_type": "code",
   "execution_count": 2,
   "metadata": {},
   "outputs": [],
   "source": [
    "def central_emission(hmap, map_w, pixel_w, max_sep):\n",
    "    #Returns the average surface brightness in Jy/pixel of pixels within max_sep \n",
    "    # of the center of hmap (assuming hmap has units MJy/pixel)\n",
    "    center = map_w + 0.5\n",
    "    emission = 0\n",
    "    div = 0\n",
    "    hist = []\n",
    "    for i in range(2*map_w):\n",
    "        for j in range(2*map_w):\n",
    "            if pixel_w*np.sqrt((center-i)**2+(center-j)**2) <= max_sep:\n",
    "                hist.append(hmap[i,j])\n",
    "                div +=1\n",
    "    return  np.array(hist)"
   ]
  },
  {
   "cell_type": "code",
   "execution_count": 3,
   "metadata": {},
   "outputs": [],
   "source": [
    "act = fits.open('/home/alex/Desktop/Clusters/actCatalog.fits')\n",
    "\n",
    "actRA = act[1].data['RADeg']\n",
    "actDec = act[1].data['decDeg']\n",
    "actName = act[1].data['name']"
   ]
  },
  {
   "cell_type": "code",
   "execution_count": 6,
   "metadata": {},
   "outputs": [],
   "source": [
    "hdu = fits.open('/home/alex/Downloads/act/'+actName[0])\n",
    "w = wcs.WCS(hdu[0].header)\n",
    "header = hdu[0].header\n",
    "pixel_size = header.get('CDELT2')*u.deg"
   ]
  },
  {
   "cell_type": "code",
   "execution_count": 8,
   "metadata": {
    "scrolled": true
   },
   "outputs": [],
   "source": [
    "# fill stackArr\n",
    "stackArr = []\n",
    "#1030 is weird and 2432 has a huge 1.8322204 Jy central flux\n",
    "i = 0\n",
    "while i < 1030:#len(actName):\n",
    "    cutout = fits.open('/home/alex/Downloads/act/'+actName[i])\n",
    "    stackArr.append(cutout[0].data[0][0])\n",
    "    i+=1\n",
    "i = 1031\n",
    "while i < 2432:#len(actName):\n",
    "    cutout = fits.open('/home/alex/Downloads/act/'+actName[i])\n",
    "    stackArr.append(cutout[0].data[0][0])\n",
    "    i+=1\n",
    "i = 2433\n",
    "while i < 3368:#len(actName):\n",
    "    cutout = fits.open('/home/alex/Downloads/act/'+actName[i])\n",
    "    stackArr.append(cutout[0].data[0][0])\n",
    "    i+=1"
   ]
  },
  {
   "cell_type": "code",
   "execution_count": 11,
   "metadata": {},
   "outputs": [
    {
     "data": {
      "text/plain": [
       "SIMPLE  =                    T / file does conform to FITS standard             \n",
       "BITPIX  =                  -32 / number of bits per data pixel                  \n",
       "NAXIS   =                    4 / number of data axes                            \n",
       "NAXIS1  =                  721 / length of data axis 1                          \n",
       "NAXIS2  =                  721 / length of data axis 2                          \n",
       "NAXIS3  =                    1 / length of data axis 3                          \n",
       "NAXIS4  =                    1 / length of data axis 4                          \n",
       "EXTEND  =                    T / FITS dataset may contain extensions            \n",
       "COMMENT   FITS (Flexible Image Transport System) format is defined in 'Astronomy\n",
       "COMMENT   and Astrophysics', volume 376, page 359; bibcode: 2001A&A...376..359H \n",
       "BSCALE  =   1.000000000000E+00 /PHYSICAL = PIXEL*BSCALE + BZERO                 \n",
       "BZERO   =   0.000000000000E+00                                                  \n",
       "BMAJ    =   9.637127982246E-04                                                  \n",
       "BMIN    =   6.078994936413E-04                                                  \n",
       "BPA     =   3.546832275391E+01                                                  \n",
       "BTYPE   = 'Intensity'                                                           \n",
       "OBJECT  = '1443050-035736'                                                      \n",
       "BUNIT   = 'Jy/beam '           /Brightness (pixel) unit                         \n",
       "EQUINOX =   2.000000000000E+03                                                  \n",
       "RADESYS = 'FK5     '                                                            \n",
       "LONPOLE =   1.800000000000E+02                                                  \n",
       "LATPOLE =  -3.500000000000E+00                                                  \n",
       "PC1_1   =   1.000000000000E+00                                                  \n",
       "PC2_1   =   0.000000000000E+00                                                  \n",
       "PC3_1   =   0.000000000000E+00                                                  \n",
       "PC4_1   =   0.000000000000E+00                                                  \n",
       "PC1_2   =   0.000000000000E+00                                                  \n",
       "PC2_2   =   1.000000000000E+00                                                  \n",
       "PC3_2   =   0.000000000000E+00                                                  \n",
       "PC4_2   =   0.000000000000E+00                                                  \n",
       "PC1_3   =   0.000000000000E+00                                                  \n",
       "PC2_3   =   0.000000000000E+00                                                  \n",
       "PC3_3   =   1.000000000000E+00                                                  \n",
       "PC4_3   =   0.000000000000E+00                                                  \n",
       "PC1_4   =   0.000000000000E+00                                                  \n",
       "PC2_4   =   0.000000000000E+00                                                  \n",
       "PC3_4   =   0.000000000000E+00                                                  \n",
       "PC4_4   =   1.000000000000E+00                                                  \n",
       "CTYPE1  = 'RA---SIN'                                                            \n",
       "CRVAL1  =   2.215020583333E+02                                                  \n",
       "CDELT1  =  -2.777777777778E-04                                                  \n",
       "CRPIX1  = -1.960000000000000E+02                                                \n",
       "CUNIT1  = 'deg     '                                                            \n",
       "CTYPE2  = 'DEC--SIN'                                                            \n",
       "CRVAL2  =  -3.500000000000E+00                                                  \n",
       "CDELT2  =   2.777777777778E-04                                                  \n",
       "CRPIX2  = 1.390000000000000E+02                                                 \n",
       "CUNIT2  = 'deg     '                                                            \n",
       "CTYPE3  = 'FREQ    '                                                            \n",
       "CRVAL3  =   3.000000000000E+09                                                  \n",
       "CDELT3  =   2.072199199709E+09                                                  \n",
       "CRPIX3  =   1.000000000000E+00                                                  \n",
       "CUNIT3  = 'Hz      '                                                            \n",
       "CTYPE4  = 'STOKES  '                                                            \n",
       "CRVAL4  =   1.000000000000E+00                                                  \n",
       "CDELT4  =   1.000000000000E+00                                                  \n",
       "CRPIX4  =   1.000000000000E+00                                                  \n",
       "CUNIT4  = '        '                                                            \n",
       "PV2_1   =   0.000000000000E+00                                                  \n",
       "PV2_2   =   0.000000000000E+00                                                  \n",
       "RESTFRQ =   2.987855893329E+09 /Rest Frequency (Hz)                             \n",
       "SPECSYS = 'LSRK    '           /Spectral reference frame                        \n",
       "ALTRVAL =  -1.218503073447E+06 /Alternate frequency reference value             \n",
       "ALTRPIX =   1.000000000000E+00 /Alternate frequency reference pixel             \n",
       "VELREF  =                  257 /1 LSR, 2 HEL, 3 OBS, +256 Radio                 \n",
       "COMMENT casacore non-standard usage: 4 LSD, 5 GEO, 6 SOU, 7 GAL                 \n",
       "TELESCOP= 'EVLA    '                                                            \n",
       "OBSERVER= 'Dr. Vlass Scientist'                                                 \n",
       "DATE-OBS= '2019-04-23T09:55:01.875001'                                          \n",
       "TIMESYS = 'UTC     '                                                            \n",
       "OBSRA   =   2.215020583333E+02                                                  \n",
       "OBSDEC  =  -3.500000000000E+00                                                  \n",
       "OBSGEO-X=  -1.601156673287E+06                                                  \n",
       "OBSGEO-Y=  -5.041988986066E+06                                                  \n",
       "OBSGEO-Z=   3.554879236821E+06                                                  \n",
       "INSTRUME= 'EVLA    '                                                            \n",
       "DISTANCE=   0.000000000000E+00                                                  \n",
       "FIELD   = '6922    '                                                            \n",
       "FILNAM01= 'VLASS1  '                                                            \n",
       "FILNAM02= '2       '                                                            \n",
       "FILNAM03= 'ql      '                                                            \n",
       "FILNAM04= 'T10t23  '                                                            \n",
       "FILNAM05= 'J144600-033000'                                                      \n",
       "FILNAM06= '10      '                                                            \n",
       "FILNAM07= '2048    '                                                            \n",
       "FILNAM08= 'v1      '                                                            \n",
       "FILNAM09= 'I       '                                                            \n",
       "FILNAM10= 'iter1   '                                                            \n",
       "FILNAM11= 'image   '                                                            \n",
       "FILNAM12= 'tt0     '                                                            \n",
       "INTENT  = 'TARGET  '                                                            \n",
       "ITER    =                    1                                                  \n",
       "NFILNAM =                   12                                                  \n",
       "NSPWNAM =                   16                                                  \n",
       "PER_EB  =                    F                                                  \n",
       "SPECMODE= 'mfs     '                                                            \n",
       "SPW     = '2,3,4,5,6,7,8,9,10,11,12,13,14,15,16,17'                             \n",
       "SPWNAM01= 'EVLA_S#A0C0#2'                                                       \n",
       "SPWNAM02= 'EVLA_S#A0C0#3'                                                       \n",
       "SPWNAM03= 'EVLA_S#A0C0#4'                                                       \n",
       "SPWNAM04= 'EVLA_S#A0C0#5'                                                       \n",
       "SPWNAM05= 'EVLA_S#A0C0#6'                                                       \n",
       "SPWNAM06= 'EVLA_S#A0C0#7'                                                       \n",
       "SPWNAM07= 'EVLA_S#A0C0#8'                                                       \n",
       "SPWNAM08= 'EVLA_S#A0C0#9'                                                       \n",
       "SPWNAM09= 'EVLA_S#B0D0#10'                                                      \n",
       "SPWNAM10= 'EVLA_S#B0D0#11'                                                      \n",
       "SPWNAM11= 'EVLA_S#B0D0#12'                                                      \n",
       "SPWNAM12= 'EVLA_S#B0D0#13'                                                      \n",
       "SPWNAM13= 'EVLA_S#B0D0#14'                                                      \n",
       "SPWNAM14= 'EVLA_S#B0D0#15'                                                      \n",
       "SPWNAM15= 'EVLA_S#B0D0#16'                                                      \n",
       "SPWNAM16= 'EVLA_S#B0D0#17'                                                      \n",
       "TYPE    = 'image   '                                                            \n",
       "DATE    = '2019-05-14T20:23:35.953000' /Date FITS file was written              \n",
       "ORIGIN  = 'CASA 5.4.1-32'                                                       \n",
       "HISTORY CASA START LOGTABLE                                                     \n",
       "HISTORY 2019-05-14T20:15:15 INFO SRCCODE='::image::setmiscinfo'                 \n",
       "HISTORY Ran ia.setmiscinfo                                                      \n",
       "HISTORY 2019-05-14T20:15:15 INFO SRCCODE='::image::setmiscinfo'                 \n",
       "HISTORY ia.setmiscinfo(info={...})                                              \n",
       "HISTORY 2019-05-14T20:16:57 INFO SRCCODE='::image::pbcor'                       \n",
       "HISTORY Ran ia.pbcor                                                            \n",
       "HISTORY 2019-05-14T20:16:57 INFO SRCCODE='::image::pbcor'                       \n",
       "HISTORY ia.pbcor(pbimage=\"VLASS1.2.ql.T10t23.J144600-033000.10.2048.v1.I.iter1.p\n",
       "HISTORY >b.tt0\", outfile=\"VLASS1.2.ql.T10t23.J144600-033000.10.2048.v1.I.iter1.i\n",
       "HISTORY >age.pbcor.tt0\", overwrite=false, box=\"\", region=\"\", chans=\"\", stokes=\"\"\n",
       "HISTORY > mask=\"\", mode=\"divide\", cutoff=-1.000000, stretch=false)              \n",
       "HISTORY 2019-05-14T20:20:13 INFO SRCCODE='::imsubimage'                         \n",
       "HISTORY version: 5.4.1-32    Tue 2019/02/12 09:08:17 UTC                        \n",
       "HISTORY 2019-05-14T20:20:13 INFO SRCCODE='::imsubimage'                         \n",
       "HISTORY imsubimage(imagename=\"VLASS1.2.ql.T10t23.J144600-033000.10.2048.v1.I.ite\n",
       "HISTORY >r1.image.pbcor.tt0\", outfile=\"VLASS1.2.ql.T10t23.J144600-033000.10.2048\n",
       "HISTORY >v1.I.iter1.image.pbcor.tt0.subim\", box=\"1785.0,1785.0,5506.0,5506.0\", r\n",
       "HISTORY >gion=\"\", chans=\"\", stokes=\"\", mask=\"\", dropdeg=False, overwrite=False, \n",
       "HISTORY >erbose=True, stretch=False, keepaxes=[])                               \n",
       "HISTORY CASA END LOGTABLE                                                       "
      ]
     },
     "execution_count": 11,
     "metadata": {},
     "output_type": "execute_result"
    }
   ],
   "source": [
    "cutout = fits.open('/home/alex/Downloads/act/'+actName[2432])\n",
    "# stackArr.append(cutout[0].data[0][0])\n",
    "\n",
    "# cutout = fits.open('/home/alex/Downloads/ACT-CL J2357.0-3445.fits')\n",
    "# stackArr.append(cutout[0].data[0][0])\n",
    "\n",
    "cutout[0].header\n",
    "\n",
    "# find central flux at cutout locations\n",
    "#np.sum(central_emission(cutout[0].data[0][0], int(100), pixel_size.to(u.arcmin).value, 1.0))"
   ]
  },
  {
   "cell_type": "code",
   "execution_count": 14,
   "metadata": {},
   "outputs": [],
   "source": [
    "# find cluster from cutout's RA/dec\n",
    "# i = 0\n",
    "# while(i < len(actRA)):\n",
    "#     if(actRA[i] < 355 and actRA[i] > 354 and actDec[i] < -35 and actDec[i] > -35.8):\n",
    "#         print(i)\n",
    "#     i+=1"
   ]
  },
  {
   "cell_type": "code",
   "execution_count": 15,
   "metadata": {},
   "outputs": [],
   "source": [
    "# high central emission list\n",
    "# print(actName[991], #stackArr[754] - central flux 0.61831367\n",
    "# actName[1490], # stackArr[1110] - central flux 0.30112392\n",
    "# actName[2454], # stackArr[1890] - central flux 0.522405\n",
    "# actName[2596], # stackArr[2032] - central flux 0.5134932\n",
    "# actName[2687], # stackArr[2129] - central flux 0.84579104\n",
    "# actName[2711], # stackArr[2147] - central flux 0.47407722\n",
    "# actName[3725], # stackArr[3030] - central flux 0.32335994\n",
    "# actName[4073]) # stackArr[3276] - central flux 0.0.40357745"
   ]
  },
  {
   "cell_type": "code",
   "execution_count": null,
   "metadata": {},
   "outputs": [],
   "source": [
    "# pick out central emission >300mJy\n",
    "i = 0\n",
    "while i < len(stackArr):\n",
    "    try:\n",
    "        cent_em = central_emission(stackArr[i], int(100), pixel_size.to(u.arcmin).value, 1.0)\n",
    "        if(np.sum(cent_em) > .3):\n",
    "            print(str(i))\n",
    "    except:\n",
    "        pass\n",
    "    i+=1"
   ]
  },
  {
   "cell_type": "code",
   "execution_count": 33,
   "metadata": {},
   "outputs": [
    {
     "data": {
      "text/plain": [
       "3366"
      ]
     },
     "execution_count": 33,
     "metadata": {},
     "output_type": "execute_result"
    }
   ],
   "source": [
    "len(stackArr)"
   ]
  },
  {
   "cell_type": "code",
   "execution_count": null,
   "metadata": {},
   "outputs": [],
   "source": []
  },
  {
   "cell_type": "code",
   "execution_count": 16,
   "metadata": {},
   "outputs": [],
   "source": [
    "# stacks"
   ]
  },
  {
   "cell_type": "code",
   "execution_count": 7,
   "metadata": {},
   "outputs": [],
   "source": [
    "# cut excess rows/columns off evens\n",
    "i = 0\n",
    "while(i < len(stackArr)):\n",
    "    if(stackArr[i].shape[0] > 720 and stackArr[i].shape[0] % 2 == 0):\n",
    "        while(stackArr[i].shape[0] > 720):\n",
    "            stackArr[i] = np.delete(stackArr[i],stackArr[i].shape[0]-1,0)\n",
    "            stackArr[i] = np.delete(stackArr[i],0,0)\n",
    "    if(stackArr[i].shape[1] > 720 and stackArr[i].shape[1] % 2 == 0):\n",
    "        while(stackArr[i].shape[1] > 720):\n",
    "            stackArr[i] = np.delete(stackArr[i],stackArr[i].shape[1]-1,1)\n",
    "            stackArr[i] = np.delete(stackArr[i],0,1)\n",
    "    i+=1"
   ]
  },
  {
   "cell_type": "code",
   "execution_count": null,
   "metadata": {},
   "outputs": [],
   "source": [
    "# cut excess rows/columns off odds\n",
    "i = 0\n",
    "while(i < len(stackArr)):\n",
    "    if(stackArr[i].size > 518400):\n",
    "        if(stackArr[i].shape[0] > 720 and stackArr[i].shape[0] % 2 != 0):\n",
    "            if(stackArr[i].shape[0] == 721):\n",
    "                stackArr[i] = stackArr[i] = np.delete(stackArr[i],stackArr[i].shape[0]-1,0) \n",
    "            else:\n",
    "                while(stackArr[i].shape[0] > 721):\n",
    "                    stackArr[i] = np.delete(stackArr[i],stackArr[i].shape[0]-1,0)\n",
    "                    stackArr[i] = np.delete(stackArr[i],0,0)     \n",
    "                stackArr[i] = stackArr[i] = np.delete(stackArr[i],stackArr[i].shape[0]-1,0) \n",
    "        if(stackArr[i].shape[1] > 720 and stackArr[i].shape[1] % 2 != 0):\n",
    "            if(stackArr[i].shape[1] == 721):\n",
    "                stackArr[i] = stackArr[i] = np.delete(stackArr[i],stackArr[i].shape[1]-1,1) \n",
    "            else:\n",
    "                while(stackArr[i].shape[1] > 721):\n",
    "                    stackArr[i] = np.delete(stackArr[i],stackArr[i].shape[1]-1,1)\n",
    "                    stackArr[i] = np.delete(stackArr[i],0,1)\n",
    "                stackArr[i] = stackArr[i] = np.delete(stackArr[i],stackArr[i].shape[1]-1,1) \n",
    "    i+=1"
   ]
  },
  {
   "cell_type": "code",
   "execution_count": 295,
   "metadata": {},
   "outputs": [],
   "source": [
    "def s18dStack(ras, decs, width = 20., weight = False):\n",
    "    stack = 0\n",
    "    divisor = 0\n",
    "    count = 0\n",
    "\n",
    "    while(divisor < len(stackArr)):\n",
    "        if len(stackArr[divisor]) == 720 and len(stackArr[divisor][0]) == 720:\n",
    "            stack += stackArr[divisor]\n",
    "            count +=1\n",
    "        divisor += 1\n",
    "\n",
    "    print(\"Number in stack: {}\".format(count))\n",
    "    return stack, count"
   ]
  },
  {
   "cell_type": "code",
   "execution_count": 296,
   "metadata": {},
   "outputs": [],
   "source": [
    "# extent in arcmin for plot axes\n",
    "w1 = -720*pixel_size.to(u.arcmin)/2\n",
    "x1 = 720*pixel_size.to(u.arcmin)/2\n",
    "y1 = -720*pixel_size.to(u.arcmin)/2\n",
    "z1 = 720*pixel_size.to(u.arcmin)/2"
   ]
  },
  {
   "cell_type": "code",
   "execution_count": 299,
   "metadata": {},
   "outputs": [
    {
     "name": "stdout",
     "output_type": "stream",
     "text": [
      "Number in stack: 1\n"
     ]
    },
    {
     "data": {
      "image/png": "[encoded data removed]",
      "text/plain": [
       "<Figure size 432x288 with 2 Axes>"
      ]
     },
     "metadata": {
      "needs_background": "light"
     },
     "output_type": "display_data"
    }
   ],
   "source": [
    "# stacker\n",
    "s18d_stack, stack_num = s18dStack(actRA, actDec)\n",
    "\n",
    "out, cen, cen_d, out_d = 0,0,0,0\n",
    "\n",
    "plot = plt.imshow(s18d_stack, extent = [w1.value,x1.value,y1.value,z1.value])\n",
    "plt.scatter(0,0, marker = '+', color = 'r')\n",
    "plt.colorbar(plot, format='%.0e')\n",
    "plt.title(\"VLASS Stack on 720x720 MaDCoWS Clusters\\n Total in Stack: {}\".format(stack_num))\n",
    "#plt.savefig(\"vlass_stacks_on_mdcws.pdf\")\n",
    "plt.show()\n",
    "plt.close()"
   ]
  },
  {
   "cell_type": "code",
   "execution_count": 301,
   "metadata": {},
   "outputs": [],
   "source": [
    "# give units back to vmap\n",
    "vmap = s18d_stack*(u.Jy/u.beam)\n",
    "\n",
    "#Convert from Jy/beam to Jy/pixel\n",
    "conv_factor = (np.pi*(2.5/2)**2/np.log(2))*(u.pix/u.beam)\n",
    "vmap = (vmap/conv_factor)\n",
    "\n",
    "#Smoothing map\n",
    "filt_scale = 1*u.arcmin\n",
    "beam_fwhm = 2.5*u.arcsec\n",
    "smooth_scale = np.sqrt(filt_scale**2-beam_fwhm.to(u.arcmin)**2)\n",
    "\n",
    "filt_pix = np.round(smooth_scale/pixel_size.to(u.arcmin))\n",
    "kernel = Gaussian2DKernel(x_stddev =  filt_pix)\n",
    "\n",
    "hdata = convolve(vmap, kernel) * (u.Jy/u.pix)"
   ]
  },
  {
   "cell_type": "code",
   "execution_count": 20,
   "metadata": {},
   "outputs": [
    {
     "data": {
      "image/png": "[encoded data removed]",
      "text/plain": [
       "<Figure size 432x288 with 2 Axes>"
      ]
     },
     "metadata": {
      "needs_background": "light"
     },
     "output_type": "display_data"
    }
   ],
   "source": [
    "plt.title(\"VLASS Stack on ACT Clusters\\n Total in Stack: {}\".format(stack_num))\n",
    "plt.scatter(0,0, marker = '+', color = 'r')\n",
    "plt.colorbar(plot)\n",
    "plt.imshow(hdata, extent = [w1.value,x1.value,y1.value,z1.value])\n",
    "plt.savefig(\"/home/alex/Downloads/vlassStackOnACT.pdf\",bbox_inches='tight')"
   ]
  },
  {
   "cell_type": "code",
   "execution_count": null,
   "metadata": {},
   "outputs": [],
   "source": []
  },
  {
   "cell_type": "code",
   "execution_count": null,
   "metadata": {},
   "outputs": [],
   "source": [
    "# histogram"
   ]
  },
  {
   "cell_type": "code",
   "execution_count": null,
   "metadata": {
    "scrolled": true
   },
   "outputs": [],
   "source": [
    "# fill emission stack with flux values for histogram\n",
    "emissionStack = []\n",
    "i = 0\n",
    "while i < len(stackArr):\n",
    "    try:\n",
    "        cent_em = central_emission(stackArr[i], int(100), pixel_size.to(u.arcmin).value, 1.0)\n",
    "        emissionStack.append(np.sum(cent_em))\n",
    "    except:\n",
    "        pass\n",
    "    i+=1"
   ]
  },
  {
   "cell_type": "code",
   "execution_count": 115,
   "metadata": {},
   "outputs": [
    {
     "data": {
      "text/plain": [
       "3077"
      ]
     },
     "execution_count": 115,
     "metadata": {},
     "output_type": "execute_result"
    }
   ],
   "source": [
    "len(emissionStack)"
   ]
  },
  {
   "cell_type": "code",
   "execution_count": 116,
   "metadata": {},
   "outputs": [],
   "source": [
    "# fill values for histStack ... cut out values below VLASS noise floor\n",
    "histStack = []\n",
    "i = 0\n",
    "while i < len(emissionStack):\n",
    "    if(emissionStack[i] > 6.9E-5):#combined (3 epoch) sensitivity 69microJy RMS\n",
    "        histStack.append(emissionStack[i])\n",
    "    i+=1"
   ]
  },
  {
   "cell_type": "code",
   "execution_count": 117,
   "metadata": {},
   "outputs": [
    {
     "data": {
      "text/plain": [
       "1588"
      ]
     },
     "execution_count": 117,
     "metadata": {},
     "output_type": "execute_result"
    }
   ],
   "source": [
    "len(histStack)"
   ]
  },
  {
   "cell_type": "code",
   "execution_count": 118,
   "metadata": {},
   "outputs": [
    {
     "data": {
      "image/png": "[encoded data removed]",
      "text/plain": [
       "<Figure size 432x288 with 1 Axes>"
      ]
     },
     "metadata": {
      "needs_background": "light"
     },
     "output_type": "display_data"
    }
   ],
   "source": [
    "plt.hist(histStack,bins=60,align='right',edgecolor='black',color='blue')\n",
    "plt.xlabel('Flux [Jy]')\n",
    "plt.ylabel('Cluster Count')\n",
    "plt.yscale('log')\n",
    "plt.title('Central Flux at ACT Cluster Locations \\n Number of clusters: ' + str(len(histStack)))\n",
    "plt.savefig(\"/home/alex/Downloads/actHistogram.pdf\",bbox_inches='tight')\n",
    "plt.show()"
   ]
  }
 ],
 "metadata": {
  "kernelspec": {
   "display_name": "Python 3",
   "language": "python",
   "name": "python3"
  },
  "language_info": {
   "codemirror_mode": {
    "name": "ipython",
    "version": 3
   },
   "file_extension": ".py",
   "mimetype": "text/x-python",
   "name": "python",
   "nbconvert_exporter": "python",
   "pygments_lexer": "ipython3",
   "version": "3.8.5"
  }
 },
 "nbformat": 4,
 "nbformat_minor": 4
}
